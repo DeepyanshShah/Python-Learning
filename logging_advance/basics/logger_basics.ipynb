{
 "cells": [
  {
   "cell_type": "code",
   "execution_count": 3,
   "metadata": {},
   "outputs": [],
   "source": [
    "import logging"
   ]
  },
  {
   "cell_type": "markdown",
   "metadata": {},
   "source": [
    "N -Level:\n",
    "What it means / When to use it\n",
    "------------------------------------------------------------------\n",
    "\n",
    "0 -logging.NOTSET:\n",
    "When set on a logger, indicates that ancestor loggers are to be consulted to determine the effective level. If that still resolves to NOTSET, then all events are logged. When set on a handler, all events are handled.\n",
    "\n",
    "10 -logging.DEBUG:\n",
    "Detailed information, typically only of interest to a developer trying to diagnose a problem.\n",
    "\n",
    "20 -logging.INFO:\n",
    "Confirmation that things are working as expected.\n",
    "\n",
    "30 -logging.WARNING:\n",
    "An indication that something unexpected happened, or that a problem might occur in the near future (e.g. ‘disk space low’). The software is still working as expected.\n",
    "\n",
    "40 -logging.ERROR:\n",
    "Due to a more serious problem, the software has not been able to perform some function.\n",
    "\n",
    "50 -logging.CRITICAL:\n",
    "A serious error, indicating that the program itself may be unable to continue running."
   ]
  },
  {
   "cell_type": "code",
   "execution_count": 7,
   "metadata": {},
   "outputs": [
    {
     "name": "stderr",
     "output_type": "stream",
     "text": [
      "WARNING:root:Add: 10+5=15\n",
      "WARNING:root:Add: 10+5=5\n",
      "WARNING:root:Add: 10+5=50\n",
      "WARNING:root:Add: 10+5=2.0\n"
     ]
    }
   ],
   "source": [
    "def add(x,y):\n",
    "    return x + y\n",
    "\n",
    "def sub(x,y):\n",
    "    return x - y\n",
    "\n",
    "def mul(x,y):\n",
    "    return x * y\n",
    "\n",
    "def div(x,y):\n",
    "    return x / y\n",
    "\n",
    "n1 = 10\n",
    "n2 = 5\n",
    "\n",
    "add_result = add(n1,n2)\n",
    "logging.warning(f'Add: {n1}+{n2}={add_result}')\n",
    "# logging.debug(f'Add: {n1}+{n2}={add_result}') \n",
    "#here debug is not helping us to print because the default level is set to WARNING\n",
    "\n",
    "sub_result = sub(n1,n2)\n",
    "logging.warning(f'Add: {n1}-{n2}={sub_result}')\n",
    "\n",
    "mul_result = mul(n1,n2)\n",
    "logging.warning(f'Add: {n1}x{n2}={mul_result}')\n",
    "\n",
    "div_result = div(n1,n2)\n",
    "logging.warning(f'Add: {n1}/{n2}={div_result}')"
   ]
  },
  {
   "cell_type": "markdown",
   "metadata": {},
   "source": [
    "Lets configure our logging such that we can use debugg and info too "
   ]
  },
  {
   "cell_type": "code",
   "execution_count": 8,
   "metadata": {},
   "outputs": [
    {
     "name": "stderr",
     "output_type": "stream",
     "text": [
      "DEBUG:root:Add: 10+5=15\n",
      "DEBUG:root:Add: 10+5=5\n",
      "DEBUG:root:Add: 10+5=50\n",
      "DEBUG:root:Add: 10+5=2.0\n"
     ]
    }
   ],
   "source": [
    "logging.basicConfig(level=logging.DEBUG)\n",
    "# This simply sets debug as root log\n",
    "# Also logging.DEBUG simply declares logging level to 10 because (DEBUG = 10)\n",
    "\n",
    "def add(x,y):\n",
    "    return x + y\n",
    "\n",
    "def sub(x,y):\n",
    "    return x - y\n",
    "\n",
    "def mul(x,y):\n",
    "    return x * y\n",
    "\n",
    "def div(x,y):\n",
    "    return x / y\n",
    "\n",
    "n1 = 10\n",
    "n2 = 5\n",
    "\n",
    "add_result = add(n1,n2)\n",
    "logging.debug(f'Add: {n1}+{n2}={add_result}')\n",
    "\n",
    "sub_result = sub(n1,n2)\n",
    "logging.debug(f'Add: {n1}+{n2}={sub_result}')\n",
    "\n",
    "mul_result = mul(n1,n2)\n",
    "logging.debug(f'Add: {n1}+{n2}={mul_result}')\n",
    "\n",
    "div_result = div(n1,n2)\n",
    "logging.debug(f'Add: {n1}+{n2}={div_result}')"
   ]
  },
  {
   "cell_type": "markdown",
   "metadata": {},
   "source": [
    "Lets say i want to get the output logs to a new file \n",
    "\n",
    "NOTE: this will also output new changes and append to same file after every run"
   ]
  },
  {
   "cell_type": "code",
   "execution_count": 12,
   "metadata": {},
   "outputs": [
    {
     "name": "stderr",
     "output_type": "stream",
     "text": [
      "DEBUG:root:Add: 20+5=25\n",
      "DEBUG:root:Add: 20+5=15\n",
      "DEBUG:root:Add: 20+5=100\n",
      "DEBUG:root:Add: 20+5=4.0\n"
     ]
    }
   ],
   "source": [
    "logging.basicConfig(filename='test.log', level=logging.DEBUG)\n"
   ]
  },
  {
   "cell_type": "markdown",
   "metadata": {},
   "source": [
    "Lets say we want our contents of the log file to be formatted as\n",
    " datetime.level_name.message"
   ]
  },
  {
   "cell_type": "code",
   "execution_count": null,
   "metadata": {},
   "outputs": [],
   "source": [
    "logging.basicConfig(filename='test.log', level=logging.DEBUG,\n",
    "                    format='%(asctime)s:%(levelname)s:%(message)s')"
   ]
  },
  {
   "cell_type": "code",
   "execution_count": null,
   "metadata": {},
   "outputs": [],
   "source": []
  }
 ],
 "metadata": {
  "kernelspec": {
   "display_name": "Python 3",
   "language": "python",
   "name": "python3"
  },
  "language_info": {
   "codemirror_mode": {
    "name": "ipython",
    "version": 3
   },
   "file_extension": ".py",
   "mimetype": "text/x-python",
   "name": "python",
   "nbconvert_exporter": "python",
   "pygments_lexer": "ipython3",
   "version": "3.9.13"
  }
 },
 "nbformat": 4,
 "nbformat_minor": 2
}
